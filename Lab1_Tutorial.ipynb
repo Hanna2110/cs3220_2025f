{
  "nbformat": 4,
  "nbformat_minor": 0,
  "metadata": {
    "colab": {
      "provenance": [],
      "authorship_tag": "ABX9TyOfWnu9gmPzVhzjYSXPLTk3",
      "include_colab_link": true
    },
    "kernelspec": {
      "name": "python3",
      "display_name": "Python 3"
    },
    "language_info": {
      "name": "python"
    }
  },
  "cells": [
    {
      "cell_type": "markdown",
      "metadata": {
        "id": "view-in-github",
        "colab_type": "text"
      },
      "source": [
        "<a href=\"https://colab.research.google.com/github/Hanna2110/cs3220_2025f/blob/main/Lab1_Tutorial.ipynb\" target=\"_parent\"><img src=\"https://colab.research.google.com/assets/colab-badge.svg\" alt=\"Open In Colab\"/></a>"
      ]
    },
    {
      "cell_type": "code",
      "source": [
        "%load_ext autoreload\n",
        "#Now, you can turn on auto-reloading\n",
        "%autoreload 2"
      ],
      "metadata": {
        "id": "9XxdNuhZTNuQ"
      },
      "execution_count": null,
      "outputs": []
    },
    {
      "cell_type": "markdown",
      "source": [
        "There are 3 configuration options that you can set:\n",
        "\n",
        "*%autoreload 0* - disables the auto-reloading. This is the default setting.\n",
        "\n",
        "*%autoreload 1* - it will only auto-reload modules that were imported using the %aimport function (e.g %aimport my_module). It's a good option if you want to specifically auto-reload only a selected module.\n",
        "\n",
        "*%autoreload 2* - auto-reload all the modules. Great way to make writing and testing your modules much easier."
      ],
      "metadata": {
        "id": "-OHqj_w-UgBi"
      }
    },
    {
      "cell_type": "code",
      "source": [
        "from google.colab import drive\n",
        "drive.mount('/content/drive')"
      ],
      "metadata": {
        "colab": {
          "base_uri": "https://localhost:8080/"
        },
        "id": "PjgOEIRPVnki",
        "outputId": "4814dba5-3a5e-4bb3-c58e-92930d70f6b2"
      },
      "execution_count": null,
      "outputs": [
        {
          "output_type": "stream",
          "name": "stdout",
          "text": [
            "Mounted at /content/drive\n"
          ]
        }
      ]
    },
    {
      "cell_type": "code",
      "source": [
        "path=\"/content/drive/MyDrive/Colab_Notebooks/cs3220_A1\""
      ],
      "metadata": {
        "id": "pbTmKm1TYIpT"
      },
      "execution_count": null,
      "outputs": []
    },
    {
      "cell_type": "code",
      "source": [
        "import os"
      ],
      "metadata": {
        "id": "4w4_aeEwYVDj"
      },
      "execution_count": null,
      "outputs": []
    },
    {
      "cell_type": "code",
      "source": [
        "os.listdir(path)"
      ],
      "metadata": {
        "id": "2EfocNrHYWpa"
      },
      "execution_count": null,
      "outputs": []
    },
    {
      "cell_type": "code",
      "source": [
        "import sys\n",
        "sys.path.append(path)"
      ],
      "metadata": {
        "id": "35oKSTKOZ2Vn"
      },
      "execution_count": null,
      "outputs": []
    },
    {
      "cell_type": "code",
      "source": [
        "from person_class import Person"
      ],
      "metadata": {
        "id": "QCqXtk833kn9"
      },
      "execution_count": null,
      "outputs": []
    },
    {
      "cell_type": "code",
      "source": [
        "from google.colab import files\n",
        "dir_to_zip = '/content/drive/MyDrive/Colab_Notebooks/cs3220_A1' #@param {type: \"string\"}\n",
        "output_filename = '/content/drive/MyDrive/Colab_Notebooks/cs3220_A1.zip' #@param {type: \"string\"}\n",
        "delete_dir_after_download = \"No\"  #@param ['Yes', 'No']"
      ],
      "metadata": {
        "id": "aMtik6MNsgQh"
      },
      "execution_count": null,
      "outputs": []
    },
    {
      "cell_type": "code",
      "source": [
        "!zip -r $output_filename {dir_to_zip}"
      ],
      "metadata": {
        "colab": {
          "base_uri": "https://localhost:8080/"
        },
        "id": "_UFuW3njr1wH",
        "outputId": "8998d284-1a15-4ccd-fb67-a692fdeb8b0b"
      },
      "execution_count": null,
      "outputs": [
        {
          "output_type": "stream",
          "name": "stdout",
          "text": [
            "  adding: content/drive/MyDrive/Colab_Notebooks/cs3220_A1/ (stored 0%)\n",
            "  adding: content/drive/MyDrive/Colab_Notebooks/cs3220_A1/student_class.py (deflated 22%)\n",
            "  adding: content/drive/MyDrive/Colab_Notebooks/cs3220_A1/instructor_class.py (deflated 22%)\n",
            "  adding: content/drive/MyDrive/Colab_Notebooks/cs3220_A1/Lab1_Tutorial.ipynb (deflated 62%)\n",
            "  adding: content/drive/MyDrive/Colab_Notebooks/cs3220_A1/__pycache__/ (stored 0%)\n",
            "  adding: content/drive/MyDrive/Colab_Notebooks/cs3220_A1/__pycache__/person.cpython-310.pyc (deflated 31%)\n",
            "  adding: content/drive/MyDrive/Colab_Notebooks/cs3220_A1/__pycache__/py1.cpython-310.pyc (deflated 27%)\n",
            "  adding: content/drive/MyDrive/Colab_Notebooks/cs3220_A1/__pycache__/person1.cpython-310.pyc (deflated 38%)\n",
            "  adding: content/drive/MyDrive/Colab_Notebooks/cs3220_A1/__pycache__/person_class.cpython-310.pyc (deflated 31%)\n",
            "  adding: content/drive/MyDrive/Colab_Notebooks/cs3220_A1/.ipynb_checkpoints/ (stored 0%)\n",
            "  adding: content/drive/MyDrive/Colab_Notebooks/cs3220_A1/person_class.py (stored 0%)\n",
            "  adding: content/drive/MyDrive/Colab_Notebooks/cs3220_A1/student.py (deflated 22%)\n"
          ]
        }
      ]
    },
    {
      "cell_type": "code",
      "source": [
        "# command to download the zipped folder\n",
        "# Specify the path of the zipped file within the\n",
        "# parenthesis of the downlaod function\n",
        "files.download(output_filename)"
      ],
      "metadata": {
        "colab": {
          "base_uri": "https://localhost:8080/",
          "height": 17
        },
        "id": "yaYhFU2bsO2u",
        "outputId": "7d1687f8-7737-402a-f228-36e5c9ce6f87"
      },
      "execution_count": null,
      "outputs": [
        {
          "output_type": "display_data",
          "data": {
            "text/plain": [
              "<IPython.core.display.Javascript object>"
            ],
            "application/javascript": [
              "\n",
              "    async function download(id, filename, size) {\n",
              "      if (!google.colab.kernel.accessAllowed) {\n",
              "        return;\n",
              "      }\n",
              "      const div = document.createElement('div');\n",
              "      const label = document.createElement('label');\n",
              "      label.textContent = `Downloading \"${filename}\": `;\n",
              "      div.appendChild(label);\n",
              "      const progress = document.createElement('progress');\n",
              "      progress.max = size;\n",
              "      div.appendChild(progress);\n",
              "      document.body.appendChild(div);\n",
              "\n",
              "      const buffers = [];\n",
              "      let downloaded = 0;\n",
              "\n",
              "      const channel = await google.colab.kernel.comms.open(id);\n",
              "      // Send a message to notify the kernel that we're ready.\n",
              "      channel.send({})\n",
              "\n",
              "      for await (const message of channel.messages) {\n",
              "        // Send a message to notify the kernel that we're ready.\n",
              "        channel.send({})\n",
              "        if (message.buffers) {\n",
              "          for (const buffer of message.buffers) {\n",
              "            buffers.push(buffer);\n",
              "            downloaded += buffer.byteLength;\n",
              "            progress.value = downloaded;\n",
              "          }\n",
              "        }\n",
              "      }\n",
              "      const blob = new Blob(buffers, {type: 'application/binary'});\n",
              "      const a = document.createElement('a');\n",
              "      a.href = window.URL.createObjectURL(blob);\n",
              "      a.download = filename;\n",
              "      div.appendChild(a);\n",
              "      a.click();\n",
              "      div.remove();\n",
              "    }\n",
              "  "
            ]
          },
          "metadata": {}
        },
        {
          "output_type": "display_data",
          "data": {
            "text/plain": [
              "<IPython.core.display.Javascript object>"
            ],
            "application/javascript": [
              "download(\"download_5fae410c-6d0b-4da9-9ee6-1b2a41df5b27\", \"cs3220_A1.zip\", 17612)"
            ]
          },
          "metadata": {}
        }
      ]
    },
    {
      "cell_type": "markdown",
      "source": [
        "**Objected Oriented Programming in Python**"
      ],
      "metadata": {
        "id": "HrR1nVWMyV3s"
      }
    },
    {
      "cell_type": "markdown",
      "source": [
        "***Object oriented programming*** is a data-centered programming paradigm that is based on the idea of grouping data and functions that act on particular data in so-called classes.\n",
        "\n",
        "A ***class*** can be seen as a complex data-type, a template if you will.\n",
        "\n",
        "***Variables*** that are of that data type are said to be **objects** or **instances** of that class."
      ],
      "metadata": {
        "id": "pozbIntXya2I"
      }
    },
    {
      "cell_type": "code",
      "execution_count": null,
      "metadata": {
        "id": "DVQDwZCwwy1y"
      },
      "outputs": [],
      "source": [
        "class Person:\n",
        "    def __init__(self, name, age):\n",
        "        self.name = name\n",
        "        self.age = age"
      ]
    },
    {
      "cell_type": "markdown",
      "source": [
        "Here we created a class Person with a function *__init__*.\n",
        "\n",
        "Functions that start with underscores are always special functions to Python which are connected with other built-in aspects of the language.\n",
        "\n",
        "Functions within a class are called **methods**.\n",
        "\n",
        "The initialisation method assigns the two parameters that are passed to variables that belong to the object, within a class definition the object is always represented by self.\n",
        "\n",
        "The first argument of a method is always *self*, and it will always point to the instance of the class. This first argument however is never explicitly specified when you call the method. It is implicitly passed by Python itself. That is why you see a discrepancy between the number of arguments in the instantiation and in the class definition.\n",
        "\n",
        "Any *variable or methods in a class can be accessed using the period* (.) syntax:\n",
        "\n",
        "*object.variable*\n",
        "\n",
        "or\n",
        "\n",
        "*object.method*\n"
      ],
      "metadata": {
        "id": "ZNCpFkfZ0eqa"
      }
    },
    {
      "cell_type": "markdown",
      "source": [
        "The *initialisation function* will be called when an object of that initialised. Let's do so:"
      ],
      "metadata": {
        "id": "MvS4LoU81TXL"
      }
    },
    {
      "cell_type": "code",
      "source": [
        "instructor = Person(\"Anna\", 20)\n",
        "print(\"My name is \" + instructor.name)\n",
        "print(\"My age is \" + str(instructor.age))"
      ],
      "metadata": {
        "id": "VaQwfINI1XJ8",
        "colab": {
          "base_uri": "https://localhost:8080/"
        },
        "outputId": "514990a3-5613-4bbd-d65f-6ba68f8f2a68"
      },
      "execution_count": null,
      "outputs": [
        {
          "output_type": "stream",
          "name": "stdout",
          "text": [
            "My name is Anna\n",
            "My age is 20\n"
          ]
        }
      ]
    },
    {
      "cell_type": "markdown",
      "source": [
        "Unbeknowst to you, we have already made use of countless objects and methods throughout this course.\n",
        "Things like strings, lists, sets, dictionaries are all objects! The object oriented paradigm is ubiquitous in Python!"
      ],
      "metadata": {
        "id": "isitT6B67O4y"
      }
    },
    {
      "cell_type": "markdown",
      "source": [
        " Let's extend our example (to print the name and age):"
      ],
      "metadata": {
        "id": "fVFgGIJo1mJ8"
      }
    },
    {
      "cell_type": "code",
      "source": [
        "class Person:\n",
        "    def __init__(self, name, age):\n",
        "        self.name = name\n",
        "        self.age = age\n",
        "\n",
        "    def introduceyourself(self):\n",
        "        print(\"My name is \" + self.name)\n",
        "        print(\"My age is \" + str(self.age))\n",
        "\n",
        "instructor = Person(\"Hanna\",25)\n",
        "instructor.introduceyourself()"
      ],
      "metadata": {
        "id": "XMO_yMyv18bt"
      },
      "execution_count": null,
      "outputs": []
    },
    {
      "cell_type": "markdown",
      "source": [
        "When the method is called, Python replaces the *self* argument with the instance object"
      ],
      "metadata": {
        "id": "S_DoT7SAfXyX"
      }
    },
    {
      "cell_type": "markdown",
      "source": [
        "Methods like .__init__() and .__str__() are called **dunder methods** because they begin and end with double underscores.\n",
        "\n",
        "There are many dunder methods that you can use to customize classes in Python\n",
        "[When Should You Use .__repr__() vs .__str__() in Python?](https://realpython.com/python-repr-vs-str/)"
      ],
      "metadata": {
        "id": "cVB-F33cbTeD"
      }
    },
    {
      "cell_type": "markdown",
      "source": [
        "Attributes created in .__init__() are called *instance attributes*.\n",
        "An instance attribute’s value is specific to a particular instance of the class"
      ],
      "metadata": {
        "id": "78WaWVkubXo3"
      }
    },
    {
      "cell_type": "markdown",
      "source": [
        "On the other hand, **class attributes** are attributes that have the same value for all class instances.\n",
        "You can define a class attribute by assigning a value to a variable name outside of .__init__()."
      ],
      "metadata": {
        "id": "FJc4OKwBcBQ8"
      }
    },
    {
      "cell_type": "code",
      "source": [
        "class Person:\n",
        "    whoIs=\"homo sapiens\"\n",
        "    def __init__(self, name, age):\n",
        "        self.name = name\n",
        "        self.age = age\n",
        "\n",
        "    def introduceyourself(self):\n",
        "        print(\"My name is \" + self.name)\n",
        "        print(\"My age is \" + str(self.age))\n",
        "\n",
        "instructor = Person(\"Hanna\",25)\n",
        "instructor.introduceyourself()"
      ],
      "metadata": {
        "id": "FG2IRCaTcHjH"
      },
      "execution_count": null,
      "outputs": []
    },
    {
      "cell_type": "markdown",
      "source": [
        "When you create an instance of the class, then Python automatically creates and assigns class attributes to their initial values."
      ],
      "metadata": {
        "id": "o_f4CR3uccwC"
      }
    },
    {
      "cell_type": "code",
      "source": [
        "instructor1 = Person(\"Hanna\",25)\n",
        "print(instructor1.whoIs)\n",
        "instructor1.whoIs=\"woman\"\n",
        "\n",
        "instructor2 = Person(\"Anna\",20)\n",
        "instructor2.whoIs"
      ],
      "metadata": {
        "id": "054YefFYcnxf"
      },
      "execution_count": null,
      "outputs": []
    },
    {
      "cell_type": "markdown",
      "source": [
        "To determine which class a given object belongs to, you can use the *built-in type()*:"
      ],
      "metadata": {
        "id": "FVaPNWSqdqUu"
      }
    },
    {
      "cell_type": "code",
      "source": [
        "type(instructor1)"
      ],
      "metadata": {
        "id": "9Yavx1vwdsZW"
      },
      "execution_count": null,
      "outputs": []
    },
    {
      "cell_type": "markdown",
      "source": [
        "[Getters and Setters: Manage Attributes in Python](https://realpython.com/python-getter-setter/)"
      ],
      "metadata": {
        "id": "nDMCPzCmq4YW"
      }
    },
    {
      "cell_type": "code",
      "source": [
        "class Person:\n",
        "    whoIs=\"homo sapiens\"\n",
        "    def __init__(self, name, age):\n",
        "        self._name = name\n",
        "\n",
        "    @property\n",
        "    def name(self):\n",
        "        return self._name\n",
        "\n",
        "    @name.setter\n",
        "    def name(self, value):\n",
        "        self._name = value\n",
        "\n",
        "class Teacher(Person): #this class inherits the class Person\n",
        "    @property\n",
        "    def name(self):\n",
        "      return super().name.title()\n",
        "\n",
        "instructor1 = Person(\"Hanna\",25)\n",
        "print(instructor1.name)\n",
        "instructor1.name=\"Anna\"\n",
        "print(instructor1.name)\n",
        "\n",
        "instructor2 = Teacher(\"Franco\",20)\n",
        "print(instructor2.name)\n",
        "instructor2.name=\"Anna\"\n",
        "\n",
        "\n"
      ],
      "metadata": {
        "id": "CBCjdkC5rgvC"
      },
      "execution_count": null,
      "outputs": []
    },
    {
      "cell_type": "markdown",
      "source": [
        "A **class method** is a method that is bound to a class rather than its object. It doesn't require creation of a class instance.\n",
        "\n",
        "Class method works with the class since its parameter is always the class itself.\n",
        "\n",
        "The class method can be called both by the class and its object.\n",
        "\n",
        "You can use the @classmethod decorator for classmethod definition\n",
        "![image.png](data:image/png;base64,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)\n",
        "\n",
        "The class method is always attached to a class with the first argument as the class itself *cls*"
      ],
      "metadata": {
        "id": "Osq5w5vgg6Cv"
      }
    },
    {
      "cell_type": "markdown",
      "source": [
        "*When do you use the class method?*\n",
        "1. *Factory methods*\n",
        "\n",
        "are those methods that return a class object (like constructor) for different use cases.\n",
        "\n",
        "It is similar to function overloading in C++ . Since, Python doesn't have anything as such, class methods and static methods are used."
      ],
      "metadata": {
        "id": "2XUtqQy8h62x"
      }
    },
    {
      "cell_type": "code",
      "source": [
        "from datetime import date\n",
        "\n",
        "class Person:\n",
        "    whoIs=\"homo sapiens\"\n",
        "    def __init__(self, name, age):\n",
        "        self.name = name\n",
        "        self.age = age\n",
        "\n",
        "    def introduceyourself(self):\n",
        "        print(\"My name is \" + self.name)\n",
        "        print(\"My age is \" + str(self.age))\n",
        "\n",
        "    @classmethod\n",
        "    def fromBirthYear(cls, name, birthYear):\n",
        "        return cls(name, date.today().year - birthYear)\n",
        "\n",
        "instructor = Person.fromBirthYear('Hanna',  2000)\n",
        "instructor.introduceyourself()"
      ],
      "metadata": {
        "id": "MHe_wfg2iSCz"
      },
      "execution_count": null,
      "outputs": []
    },
    {
      "cell_type": "markdown",
      "source": [
        "2. Correct instance creation in *inheritance* - see later..."
      ],
      "metadata": {
        "id": "FyPzMMHgiql6"
      }
    },
    {
      "cell_type": "markdown",
      "source": [
        "**Inheritance**"
      ],
      "metadata": {
        "id": "5gLjH9Yx7fVp"
      }
    },
    {
      "cell_type": "markdown",
      "source": [
        "You can build more specialised classes on top of more generic classes.\n",
        "*Person* for instance is a rather generic concept. We can use this generic class to build a more specialised class *Teacher*, a person that teaches a course.\n",
        "\n",
        "If you use inheritance, everything that the parent class could do, the inherited class can do as well!\n",
        "\n",
        "The syntax for inheritance is as follows, do not confuse it with parameters in a function/method definition.\n",
        "\n",
        "We also add an extra method *stateprofession()* otherwise *Teacher* would be no different than *Person*:"
      ],
      "metadata": {
        "id": "zm1QzqsS7lNK"
      }
    },
    {
      "cell_type": "code",
      "source": [
        "class Person:\n",
        "    def __init__(self, name, age):\n",
        "        self.name = name\n",
        "        self.age = age\n",
        "\n",
        "    def introduceyourself(self):\n",
        "        print(\"My name is \" + self.name)\n",
        "        print(\"My age is \" + str(self.age))\n",
        "\n",
        "\n",
        "class Teacher(Person): #this class inherits the class Person\n",
        "    def stateprofession(self):\n",
        "        print(\"I am a teacher!\")"
      ],
      "metadata": {
        "id": "ynAgWTEW8FIK"
      },
      "execution_count": null,
      "outputs": []
    },
    {
      "cell_type": "code",
      "source": [
        "instructor = Teacher(\"Hanna\",20)\n",
        "instructor.introduceyourself()\n",
        "instructor.stateprofession()"
      ],
      "metadata": {
        "id": "E-looEIU8NZp"
      },
      "execution_count": null,
      "outputs": []
    },
    {
      "cell_type": "markdown",
      "source": [
        "In OOP, Inheritance signifies an IS-A relation."
      ],
      "metadata": {
        "id": "mpoa-Z6Yt-Sp"
      }
    },
    {
      "cell_type": "markdown",
      "source": [
        "**Overloading VS Overriding**\n",
        "\n",
        "**Overloading** refers to the ability to define a function with the same name multiple times and seeing different results depending on the number or types of the parameters.\n",
        "\n",
        "**Overriding** refers to having a method with the same name in the child class as in the parent class. The definition of the method differs in parent and child classes but the name remains the same.\n",
        "\n",
        "**!!!** Overriding means that the first definition will not be available anymore.\n",
        "\n"
      ],
      "metadata": {
        "id": "FR01xbEPuE0Q"
      }
    },
    {
      "cell_type": "markdown",
      "source": [
        "Instead of completely overloading a method, you can also **call the method of the parent class** (to avoid repetition of code.\n",
        "\n",
        "We need to keep track of the courses that are taught by the teacher."
      ],
      "metadata": {
        "id": "95MSgWN78L3C"
      }
    },
    {
      "cell_type": "code",
      "source": [
        "class Teacher(Person): #this class inherits the class Person\n",
        "    def __init__(self, name, age):\n",
        "        self.courses = [] #initialise a new variable\n",
        "        super().__init__(name,age) #call the init of Person\n",
        "\n",
        "    def stateOccupation(self):\n",
        "        print(\"I am a teacher!\")\n",
        "\n",
        "    def introduceyourself(self):\n",
        "        super().introduceyourself() #call the introduceyourself() of the Person\n",
        "        self.stateOccupation()\n",
        "        print(\"I teach \" + str(self.nCourses()) + \" course(s)\")\n",
        "        for course in self.courses:\n",
        "            print(\"I teach \" + course)\n",
        "\n",
        "\n",
        "\n",
        "    def addcourse(self, course):\n",
        "        self.courses.append(course)\n",
        "\n",
        "    def nCourses(self):\n",
        "        return len(self.courses)\n",
        "\n"
      ],
      "metadata": {
        "id": "tNiEbr6ZVle4"
      },
      "execution_count": null,
      "outputs": []
    },
    {
      "cell_type": "code",
      "source": [
        "instructor = Teacher(\"Hanna\",20)\n",
        "instructor.addcourse(\"Software Engineering\")\n",
        "instructor.addcourse(\"AI\")\n",
        "instructor.introduceyourself()"
      ],
      "metadata": {
        "id": "WZwq4q7ZVpwE"
      },
      "execution_count": null,
      "outputs": []
    },
    {
      "cell_type": "markdown",
      "source": [
        "Whenever you derive a class from implementing a factory method as a **class method**, it ensures correct instance creation of the derived class."
      ],
      "metadata": {
        "id": "gxOZdIXRjVQG"
      }
    },
    {
      "cell_type": "code",
      "source": [
        "from datetime import date\n",
        "\n",
        "class Person:\n",
        "    whoIs=\"homo sapiens\"\n",
        "    def __init__(self, name, age):\n",
        "        self.name = name\n",
        "        self.age = age\n",
        "\n",
        "    def introduceyourself(self):\n",
        "        print(\"My name is \" + self.name)\n",
        "        print(\"My age is \" + str(self.age))\n",
        "\n",
        "    @classmethod\n",
        "    def fromBirthYear(cls, name, birthYear):\n",
        "        return cls(name, date.today().year - birthYear)\n",
        "\n",
        "\n",
        "class Instructor(Person): #this class inherits the class Person\n",
        "    whoIs=\"smart homo sapiens\"\n",
        "    def __init__(self, name, age):\n",
        "        self.courses = [] #initialise a new variable\n",
        "        super().__init__(name,age) #call the init of Person\n",
        "\n",
        "\n",
        "instructor1 = Instructor(\"Hanna\",20)\n",
        "instructor1.whoIs"
      ],
      "metadata": {
        "id": "DXkpMrFPjeAP"
      },
      "execution_count": null,
      "outputs": []
    },
    {
      "cell_type": "markdown",
      "source": [
        "**Static methods**, as the name suggests, are not bound to either the class or its instances. They are defined using the *@staticmethod* decorator and do not take a reference to the instance or the class as their first parameter.\n",
        "\n",
        "Static methods are essentially regular functions within the class namespace and are useful for tasks that do not depend on instance-specific or class-specific data.\n",
        "\n",
        "A static method can be called on the class itself, rather than on an instance of the class.\n",
        "\n",
        "One of the main benefits of using static methods in Python is that they can be called without creating an instance of the class. This makes them useful for utility functions and other methods that don’t need access to instance-specific data.\n",
        "\n",
        "Another advantage of using static methods is that they can improve the organization and readability of your code. By grouping related functions and utility methods together in a single class, you can make it easier to understand the purpose and functionality of each part of your code."
      ],
      "metadata": {
        "id": "kPzWMtUZlQr4"
      }
    },
    {
      "cell_type": "code",
      "source": [
        "from datetime import date\n",
        "\n",
        "class Instructor(Person): #this class inherits the class Person\n",
        "    whoIs=\"smart homo sapiens\"\n",
        "    def __init__(self, name, age):\n",
        "        self.courses = [] #initialise a new variable\n",
        "        super().__init__(name,age) #call the init of Person\n",
        "\n",
        "    @staticmethod\n",
        "    def is_weekday(day):\n",
        "        if day.weekday() == 5 or day.weekday() == 6:\n",
        "            return False\n",
        "        return True\n",
        "\n",
        "\n",
        "instructor1 = Instructor(\"Hanna\",20)\n",
        "day = date(2024, 12, 25)\n",
        "instructor1.is_weekday(day)"
      ],
      "metadata": {
        "id": "DJSe8mX7lPvk"
      },
      "execution_count": null,
      "outputs": []
    },
    {
      "cell_type": "markdown",
      "source": [
        "**Exercise 1:**\n",
        "Our app has users that are either instructors or students.\n",
        "\n",
        "Instructors and students will share certain attributes and have certain behaviors that are unique to them.\n",
        "You'll be defining a Person class that both students and instructors inherit from and you'll be writing methods within both the Instructor and Student class that are unique to that class.\n",
        "\n",
        "1. Define the Person class such that a user is instantiated with a first_name and last_name. These should be saved as attributes.\n",
        "\n",
        "2. We've given you a barebones Instructor class in instructor.py\n",
        "\n",
        "We've given you a list of knowledge strings below; modify the Instructor class so that it initializes with this list. Use @property syntax to create your property knowledge.\n",
        "\n",
        "3. Create the teach() method in the Instructor class so that it returns a random element from knowledge list. We need to import Python's random library. You will want to use the random.randint() method to choose a random index in knowledge list. This method takes 2 arguments, a minimum number and a maximum number, and returns a random element in the range.\n",
        "\n",
        "4. We've given you a barebones Student class. Individual students should initialize with an attribute, knowledge, that points to an empty list.\n",
        "\n",
        "5. Create the learn() method in the Student class so that in takes in a string and adds that string to the student's knowledge list\n"
      ],
      "metadata": {
        "id": "RGh2RkUH1s2-"
      }
    },
    {
      "cell_type": "code",
      "source": [
        "knowledge = [\n",
        "    \"str is a data type in Python\",\n",
        "    \"programming is hard, but it's worth it\",\n",
        "    \"JavaScript async web request\",\n",
        "    \"Python function call definition\",\n",
        "    \"object-oriented teacher instance\",\n",
        "    \"programming computers hacking learning terminal\",\n",
        "    \"pipenv install pipenv shell\",\n",
        "    \"pytest -x flag to fail fast\",\n",
        "]"
      ],
      "metadata": {
        "id": "YKJd1S5b6gEX"
      },
      "execution_count": null,
      "outputs": []
    },
    {
      "cell_type": "markdown",
      "source": [
        "**Operator overloading**\n",
        "If you write your own classes, you can define what needs to happen if an operator such as for example `+`,`/` or `<` is used on your class.\n",
        "\n",
        "You can also define what happens when the keyword `in` or built-in functions such as `len()` are you used with your class. This allows for a very elegant way of programming.\n",
        "\n",
        "Each of these operators and built-in functions have an associated method which you can overload. All of these methods start, like `__init__`, with a double underscore.\n"
      ],
      "metadata": {
        "id": "IEPxYaaPv4Zh"
      }
    },
    {
      "cell_type": "markdown",
      "source": [
        "For example. Let's allow comparison of persons using the '<' and '>' operators. The methods for the opertors are respectively __lt__ and __gt__, both take one argument, the other object to compare to. A person qualifies as older than another if the age value is bigger:"
      ],
      "metadata": {
        "id": "4gSczxh_xhrg"
      }
    },
    {
      "cell_type": "code",
      "source": [
        "from datetime import date\n",
        "\n",
        "class Person:\n",
        "    whoIs=\"homo sapiens\"\n",
        "    def __init__(self, name, age):\n",
        "        self.name = name\n",
        "        self.age = age\n",
        "\n",
        "    def __lt__(self, other):\n",
        "        return self.age < other.age\n",
        "\n",
        "    def __gt__(self, other):\n",
        "        return self.age > other.age\n",
        "\n",
        "instructor1 = Instructor(\"Hanna\",30)\n",
        "instructor2 = Instructor(\"Franco\",20)\n",
        "print(instructor1 > instructor2)"
      ],
      "metadata": {
        "id": "YgalTgqUx1ts"
      },
      "execution_count": null,
      "outputs": []
    },
    {
      "cell_type": "markdown",
      "source": [
        "You may not yet see much use in this, but consider for example the built-in function sorted().\n",
        "\n",
        "Having such methods defined now means we can sort our persons.\n",
        "\n",
        "And because we defined the methods __lt__ and __gt__ based on time. It will automatically sort them on time, from old to young."
      ],
      "metadata": {
        "id": "gDkRtQ4fyaX_"
      }
    },
    {
      "cell_type": "markdown",
      "source": [],
      "metadata": {
        "id": "va6gzcy67z-X"
      }
    },
    {
      "cell_type": "code",
      "source": [
        "CSdepartment = [instructor2,instructor1]\n",
        "\n",
        "for instructor in sorted(CSdepartment):\n",
        "    print(instructor.name)"
      ],
      "metadata": {
        "id": "fmx0OxiuyhAx"
      },
      "execution_count": null,
      "outputs": []
    },
    {
      "cell_type": "markdown",
      "source": [
        "Remember the in keyword? Used checking items in lists and keys in dictionaries?"
      ],
      "metadata": {
        "id": "9Jp5Bi4j7zUM"
      }
    },
    {
      "cell_type": "code",
      "source": [
        "instructors = ['Hanna','Franco']\n",
        "print('hanna' in instructors)"
      ],
      "metadata": {
        "id": "W7XhgA1l71Sh"
      },
      "execution_count": null,
      "outputs": []
    },
    {
      "cell_type": "markdown",
      "source": [
        "Overloading this operator is done using the __contains__ method. It takes as extra argument the item that is being searched for ('hanna' in the above example)."
      ],
      "metadata": {
        "id": "tfkWsEzF8EKu"
      }
    },
    {
      "cell_type": "markdown",
      "source": [
        "**Exercise 2:**\n",
        "\n",
        "For Instructor, let's implement support for the *in* operator and have it check whether a certain element is in the knowledge list."
      ],
      "metadata": {
        "id": "ceNPL0jO8JNa"
      }
    },
    {
      "cell_type": "code",
      "source": [
        "class Instructor (Person):\n",
        "    #your code is here...\n",
        "\n",
        "    def __contains__(self, skill):\n",
        "        #Implement the method"
      ],
      "metadata": {
        "id": "pGNTHobS8nIS"
      },
      "execution_count": null,
      "outputs": []
    },
    {
      "cell_type": "markdown",
      "source": [
        "**Iteration over an object**\n",
        "Remember how we can iterate over lists and dictionaries using a for loop?\n"
      ],
      "metadata": {
        "id": "0bfQTdIK8-El"
      }
    },
    {
      "cell_type": "code",
      "source": [
        "instructors = ['Hanna','Franco']\n",
        "for instructor in instructors:\n",
        "    print(instructor)"
      ],
      "metadata": {
        "id": "VVamcZH79FXn",
        "colab": {
          "base_uri": "https://localhost:8080/"
        },
        "outputId": "ae166629-a655-4374-ca82-887f94771bc1"
      },
      "execution_count": null,
      "outputs": [
        {
          "output_type": "stream",
          "name": "stdout",
          "text": [
            "Hanna\n",
            "Franco\n"
          ]
        }
      ]
    },
    {
      "cell_type": "markdown",
      "source": [
        "We can do the same for our own object. We can make them support iteration.\n",
        "\n",
        "This is done by overloading the __iter__ method. It takes no extra arguments and should be a generator. Which if you recall means that you should use yield instead of return.\n",
        "\n",
        "Consider the following class Person, if we iterate over an instance of that class, we want to iterate over all hobbies. To make it more fun, let's iterate in chronologically sorted order:"
      ],
      "metadata": {
        "id": "u3am-bFv9dyi"
      }
    },
    {
      "cell_type": "code",
      "source": [
        "class Person:\n",
        "    whoIs=\"homo sapiens\"\n",
        "    def __init__(self, name, age):\n",
        "        self.name = name\n",
        "        self.age = age\n",
        "        self.hobbies=[]\n",
        "\n",
        "    def append(self, hobby):\n",
        "      self.hobbies.append(hobby)\n",
        "\n",
        "    def __iter__(self):\n",
        "        for hobby in sorted(self.hobbies):\n",
        "            yield hobby"
      ],
      "metadata": {
        "id": "noo4_hQF9uC7"
      },
      "execution_count": null,
      "outputs": []
    },
    {
      "cell_type": "markdown",
      "source": [
        "**Exercise 3:**\n",
        "\n",
        "The method __len__ is invoked when the built-in function len() is used. We want it to return the number of skills a student has."
      ],
      "metadata": {
        "id": "MafBaHzh-f9v"
      }
    },
    {
      "cell_type": "markdown",
      "source": [
        "https://github.com/BenedictusAryo/OOP_Python/tree/master\n",
        "\n",
        "https://docs.python.org/3.8/\n",
        "\n",
        "https://docs.python.org/3/tutorial/classes.html#inheritance\n",
        "\n",
        "https://realpython.com/operator-function-overloading/\n",
        "\n",
        "https://realpython.com/inheritance-composition-python/\n"
      ],
      "metadata": {
        "id": "llFMmf39wStz"
      }
    }
  ]
}